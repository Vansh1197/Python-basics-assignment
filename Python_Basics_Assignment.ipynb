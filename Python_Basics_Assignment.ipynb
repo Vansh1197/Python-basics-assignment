{
  "nbformat": 4,
  "nbformat_minor": 0,
  "metadata": {
    "colab": {
      "provenance": []
    },
    "kernelspec": {
      "name": "python3",
      "display_name": "Python 3"
    },
    "language_info": {
      "name": "python"
    }
  },
  "cells": [
    {
      "cell_type": "markdown",
      "source": [
        "**Python Basics Questions**"
      ],
      "metadata": {
        "id": "HwbJoIEn6SWe"
      }
    },
    {
      "cell_type": "markdown",
      "source": [
        " What is Python, and why is it popular\n",
        "  >> Python is a open source programming language it is widely used in data analytics, web develeopment idustry due to it is easy to read ans write and it is a popular choice of developers and programmers,\n",
        "\n",
        "  Python is popular because :\n",
        "  It is a open source language\n",
        "  It has rich ecosystem of Libraries\n",
        "  It is versatile in nature\n",
        "  "
      ],
      "metadata": {
        "id": "_A2Qu-hq7j4r"
      }
    },
    {
      "cell_type": "markdown",
      "source": [
        "What is an interpreter in Python\n",
        " >> A interpretor is a program that is used to read high level of python source codes and it translate it to machine codes to run a program in a computer.\n",
        "\n"
      ],
      "metadata": {
        "id": "ytEK7dE56RKu"
      }
    },
    {
      "cell_type": "markdown",
      "source": [
        "What are pre-defined keywords in Python\n",
        "\n",
        ">  The predefined keywords in Python are a series of reserve words or identiers that have special meanings to the compiler. example if else True or False.\n",
        "\n"
      ],
      "metadata": {
        "id": "0S6YyAaJ6RdN"
      }
    },
    {
      "cell_type": "markdown",
      "source": [
        "Can keywords be used as variable names\n",
        " >> No Keywords cannot be used as variable names."
      ],
      "metadata": {
        "id": "9hOjKzIo6WTm"
      }
    },
    {
      "cell_type": "markdown",
      "source": [
        " What is mutability in Python\n",
        "  >>  Mutability simply means change,  Container whose state or values can be changed after they are created is known as Mutability."
      ],
      "metadata": {
        "id": "4IPSjifY6WDL"
      }
    },
    {
      "cell_type": "markdown",
      "source": [
        "Why are lists mutable, but tuples are immutable\n",
        " >>  The lists are mutable because they support item assignment and Tuples are immuable because it does not support iteam assignmnent."
      ],
      "metadata": {
        "id": "a4UBFaeQ6Vtl"
      }
    },
    {
      "cell_type": "markdown",
      "source": [
        "What is the difference between “==” and “is” operators in Python\n",
        " >> The key difference between eqauality (==) and is operator are the equality operator is used to evaluates the weather the content held by objects are same are if it returns same same then it print True if not then False whereas, is operator which is also known as identity operator checks wether two objects are in same memory."
      ],
      "metadata": {
        "id": "EXjL0sXX6YCR"
      }
    },
    {
      "cell_type": "markdown",
      "source": [
        " What are logical operators in Python\n",
        "  >>  Logical operators are the tools that are used to modify or combine the conditional statements and the Boolean values . They are used to direct the flow of a program as per the stated conditions of the program ."
      ],
      "metadata": {
        "id": "nDjAUkd57hSj"
      }
    },
    {
      "cell_type": "markdown",
      "source": [
        "What is type casting in Python\n",
        " >>  Type casting in Python is also known as Type conversions, it referes to the process of converting the values from one data to type to another."
      ],
      "metadata": {
        "id": "nsWH_o_S6ZPm"
      }
    },
    {
      "cell_type": "markdown",
      "source": [
        "What is the difference between implicit and explicit type casting\n",
        " >>  in Impliit type casting , one data form can be converted to another without the use of any explicit or specific instruction from programmer . It is used in situations where we need to perform an operation using python where different data types are involved and data can be converted without losing the original data .\n",
        "\n",
        " In Explicit type casting , one data form is converted into another using built-in function . In this case , automatic conversion is not possible."
      ],
      "metadata": {
        "id": "fQe5tOKv79l8"
      }
    },
    {
      "cell_type": "markdown",
      "source": [
        "  >>"
      ],
      "metadata": {
        "id": "Kb_-L_1M79il"
      }
    },
    {
      "cell_type": "markdown",
      "source": [
        "What is the purpose of conditional statements in Python\n",
        " >> The purpose of conditional statement in python is to allow the decision making within the program which enables the code execution based upon the fact that whether the conditions are true or false . This kind of mechanism is a base for creating the codes which are dynamic in nature and can respond to any scenrio or situation ."
      ],
      "metadata": {
        "id": "kxK1_DWjLaAM"
      }
    },
    {
      "cell_type": "markdown",
      "source": [
        "How does the elif statement work\n",
        " >>  elif statement also known as elseif is a part of conditional statement which. is used in the place of if statement whenever the if condition is False python program proceed to evaluate the result as True or False."
      ],
      "metadata": {
        "id": "J3rLsBtM79e7"
      }
    },
    {
      "cell_type": "markdown",
      "source": [
        "What is the difference between for and while loops\n",
        " >> The difference between for and while loop are: for loop are used whenever you know exactly how many times you have loop; While loop is used whenever you loop until the condition changes at unknown number of times."
      ],
      "metadata": {
        "id": "uwn6O_9_79ZO"
      }
    },
    {
      "cell_type": "markdown",
      "source": [
        "Describe a scenario where a while loop is more suitable than a for loop.\n",
        "\n",
        " >> A while is only suitable whenever the number of iterations are not predetermined and when the number of statement are needed to be repeated."
      ],
      "metadata": {
        "id": "oNPIH1G879P2"
      }
    },
    {
      "cell_type": "markdown",
      "source": [
        "Practical Questions"
      ],
      "metadata": {
        "id": "dGhOEdk9UmN_"
      }
    },
    {
      "cell_type": "code",
      "source": [
        "# Write a Python program to print \"Hello, World!\"\n",
        "print(\"Hello, World!\")"
      ],
      "metadata": {
        "id": "OrtELx6M785_",
        "colab": {
          "base_uri": "https://localhost:8080/"
        },
        "outputId": "cccc9382-c5de-4a9f-935e-0389325ed7ab"
      },
      "execution_count": null,
      "outputs": [
        {
          "output_type": "stream",
          "name": "stdout",
          "text": [
            "Hello, World!\n"
          ]
        }
      ]
    },
    {
      "cell_type": "code",
      "source": [
        "# Write a Python program that displays your name and age.\n",
        "\n",
        "name=\"Vansh\"\n",
        "age = 27\n",
        "print(name)\n",
        "print (age)"
      ],
      "metadata": {
        "id": "rJKQLhrN78v0",
        "colab": {
          "base_uri": "https://localhost:8080/"
        },
        "outputId": "bcc8313b-60ed-4c57-dc0c-698649c03739"
      },
      "execution_count": null,
      "outputs": [
        {
          "output_type": "stream",
          "name": "stdout",
          "text": [
            "Vansh\n",
            "27\n"
          ]
        }
      ]
    },
    {
      "cell_type": "code",
      "source": [
        "# Write code to print all the pre-defined keywords in Python using the keyword library\n",
        "help(\"keywords\")"
      ],
      "metadata": {
        "id": "7OnyMk9177_6",
        "colab": {
          "base_uri": "https://localhost:8080/"
        },
        "outputId": "991872c6-5048-42a0-e27d-425764525305"
      },
      "execution_count": null,
      "outputs": [
        {
          "output_type": "stream",
          "name": "stdout",
          "text": [
            "\n",
            "Here is a list of the Python keywords.  Enter any keyword to get more help.\n",
            "\n",
            "False               class               from                or\n",
            "None                continue            global              pass\n",
            "True                def                 if                  raise\n",
            "and                 del                 import              return\n",
            "as                  elif                in                  try\n",
            "assert              else                is                  while\n",
            "async               except              lambda              with\n",
            "await               finally             nonlocal            yield\n",
            "break               for                 not                 \n",
            "\n"
          ]
        }
      ]
    },
    {
      "cell_type": "code",
      "source": [
        "#  Write a program that checks if a given word is a Python keyword.\n",
        "import keyword\n",
        "\n",
        "word = 'for'\n",
        "\n",
        "if keyword.iskeyword(word):\n",
        "    print(f\"'(word)' is a Python keyword.\")\n",
        "else:\n",
        "    print(f\"'(word)' is NOT a Python keyword.\")\n"
      ],
      "metadata": {
        "id": "2h2OLOZIUw2a",
        "colab": {
          "base_uri": "https://localhost:8080/"
        },
        "outputId": "f99864ce-74d6-48f8-fc02-8c67c00a0827"
      },
      "execution_count": 26,
      "outputs": [
        {
          "output_type": "stream",
          "name": "stdout",
          "text": [
            "'(word)' is a Python keyword.\n"
          ]
        }
      ]
    },
    {
      "cell_type": "code",
      "source": [
        "#  Create a list and tuple in Python, and demonstrate how attempting to change an element works differently\n",
        "# Create a list\n",
        "fruitslist = ['apple', 'banana', 'cherry']\n",
        "print(\"Original list:\", fruits_list)\n",
        "\n",
        "# Modify the first element of the list\n",
        "fruitslist[0] = 'mango'\n",
        "print(\"Modified list:\", fruits_list)\n",
        "\n",
        "# Create a tuple\n",
        "fruits_tuple = ('apple', 'banana', 'cherry')\n",
        "print(\"Original tuple:\", fruits_tuple)\n",
        "\n",
        "# Try to modify the first element of the tuple\n",
        "try:\n",
        "    fruits_tuple[0] = 'mango'\n",
        "except TypeError as error:\n",
        "    print(\"Error when trying to modify tuple:\", error)\n"
      ],
      "metadata": {
        "id": "bcSU9in-WGJ3",
        "colab": {
          "base_uri": "https://localhost:8080/"
        },
        "outputId": "34c8bbcf-3c34-42d3-aeb3-25effe0870f8"
      },
      "execution_count": null,
      "outputs": [
        {
          "output_type": "stream",
          "name": "stdout",
          "text": [
            "Original list: ['mango', 'banana', 'cherry']\n",
            "Modified list: ['mango', 'banana', 'cherry']\n",
            "Original tuple: ('apple', 'banana', 'cherry')\n",
            "Error when trying to modify tuple: 'tuple' object does not support item assignment\n"
          ]
        }
      ]
    },
    {
      "cell_type": "code",
      "source": [
        "# Write a function to demonstrate the behavior of mutable and immutable arguments.\n",
        "def demonstrate_behavior(immutable_arg, mutable_arg):\n",
        "    print(\"n-- Inside Function --\")\n",
        "    # Trying to change the immutable argument\n",
        "    immutable_arg += 100\n",
        "    print(\"Changed immutable_arg inside function:\", immutable_arg)\n",
        "\n",
        "    # Changing the mutable argument\n",
        "    mutable_arg.append(100)\n",
        "    print(\"Changed mutable_arg inside function:\", mutable_arg)\n",
        "\n",
        "# Immutable variable: Integer\n",
        "x = 50\n",
        "\n",
        "# Mutable variable: List\n",
        "my_list = [1, 2, 3]\n",
        "\n",
        "# Before calling the function\n",
        "print(\"-- Before Function Call --\")\n",
        "print(\"Immutable x:\", x)\n",
        "print(\"Mutable my_list:\", my_list)\n",
        "\n",
        "# Call the function\n",
        "demonstrate_behavior(x, my_list)\n",
        "\n",
        "# After calling the function\n",
        "print(\"\\n-- After Function Call --\")\n",
        "print(\"Immutable x:\", x)           # Still 50\n",
        "print(\"Mutable my_list:\", my_list) # Now [1, 2, 3, 100]\n"
      ],
      "metadata": {
        "id": "fGUj4icVWGSK",
        "colab": {
          "base_uri": "https://localhost:8080/"
        },
        "outputId": "85693634-2255-42f5-d53a-5fc863c274a4"
      },
      "execution_count": null,
      "outputs": [
        {
          "output_type": "stream",
          "name": "stdout",
          "text": [
            "-- Before Function Call --\n",
            "Immutable x: 50\n",
            "Mutable my_list: [1, 2, 3]\n",
            "n-- Inside Function --\n",
            "Changed immutable_arg inside function: 150\n",
            "Changed mutable_arg inside function: [1, 2, 3, 100]\n",
            "\n",
            "-- After Function Call --\n",
            "Immutable x: 50\n",
            "Mutable my_list: [1, 2, 3, 100]\n"
          ]
        }
      ]
    },
    {
      "cell_type": "code",
      "source": [
        "# Write a program to demonstrate the use of logical operators.\n",
        "age = int(input(\"Enter your age: \"))\n",
        "\n",
        "# Check voting eligibility\n",
        "if age >= 18:\n",
        "    print(\"You are eligible to vote.\")\n",
        "else:\n",
        "    print(\"You are NOT eligible to vote.\")\n"
      ],
      "metadata": {
        "id": "Vsm4px65WJV5",
        "colab": {
          "base_uri": "https://localhost:8080/"
        },
        "outputId": "87b49281-a8a7-49cc-f800-f5dd643e9710"
      },
      "execution_count": null,
      "outputs": [
        {
          "output_type": "stream",
          "name": "stdout",
          "text": [
            "Enter your age: 23\n",
            "You are eligible to vote.\n"
          ]
        }
      ]
    },
    {
      "cell_type": "code",
      "source": [
        "# Write a program that performs basic arithmetic operations on two user-input numbers.\n",
        "# Get user input\n",
        "a = float(input(\"Enter first number: \"))\n",
        "b = float(input(\"Enter second number: \"))\n",
        "\n",
        "# Perform operations\n",
        "print(f\"Addition: (a) + (b) = (a + b)\")\n",
        "print(f\"Subtraction: (a) - (b) = (a - b)\")\n",
        "print(f\"Multiplication: (a) * (b) = (a * b)\")\n",
        "if b != 0:\n",
        "    print(\"Division: (a) / (b) = (a / b)\")\n",
        "else:\n",
        "    print(\"Division: Cannot divide by zero.\")"
      ],
      "metadata": {
        "id": "56UCQdbvWKJB",
        "colab": {
          "base_uri": "https://localhost:8080/"
        },
        "outputId": "db74a994-7a1b-4063-b7ca-b7b79e9bc270"
      },
      "execution_count": 25,
      "outputs": [
        {
          "output_type": "stream",
          "name": "stdout",
          "text": [
            "Enter first number: 45\n",
            "Enter second number: 67\n",
            "Addition: (a) + (b) = (a + b)\n",
            "Subtraction: (a) - (b) = (a - b)\n",
            "Multiplication: (a) * (b) = (a * b)\n",
            "Division: (a) / (b) = (a / b)\n"
          ]
        }
      ]
    },
    {
      "cell_type": "code",
      "source": [
        "# Write code to demonstrate type casting with list elements.\n",
        "# # List of strings\n",
        "str_list = [\"1\", \"2\", \"3\"]\n",
        "\n",
        "# Cast each element to int\n",
        "int_list = list(map(int, str_list))\n",
        "\n",
        "print(int_list)\n"
      ],
      "metadata": {
        "id": "VW5Q7zdXZGTO",
        "colab": {
          "base_uri": "https://localhost:8080/"
        },
        "outputId": "b544631e-d929-4cb7-d685-ab0250847f93"
      },
      "execution_count": 20,
      "outputs": [
        {
          "output_type": "stream",
          "name": "stdout",
          "text": [
            "[1, 2, 3]\n"
          ]
        }
      ]
    },
    {
      "cell_type": "code",
      "source": [
        "# Write a program that checks if a number is positive, negative, or zero.\n",
        "\n",
        "number = float(input(\"Enter a number: \"))\n",
        "\n",
        "if number > 0:\n",
        "    print(\"The number is positive.\")\n",
        "elif number < 0:\n",
        "    print(\"The number is negative.\")\n",
        "else:\n",
        "    print(\"The number is zero.\")"
      ],
      "metadata": {
        "id": "8beQ4T3fNBOG",
        "colab": {
          "base_uri": "https://localhost:8080/"
        },
        "outputId": "e06c23df-13bd-4e94-807f-5076d083801a"
      },
      "execution_count": 21,
      "outputs": [
        {
          "output_type": "stream",
          "name": "stdout",
          "text": [
            "Enter a number: 11\n",
            "The number is positive.\n"
          ]
        }
      ]
    },
    {
      "cell_type": "code",
      "source": [
        "# Write a for loop to print numbers from 1 to 10.\n",
        "for i in range(1, 11):\n",
        "    print(i)\n",
        ""
      ],
      "metadata": {
        "id": "QQBp9a_INBjy",
        "colab": {
          "base_uri": "https://localhost:8080/"
        },
        "outputId": "22d825be-0005-41c5-c796-bf5fa1ab1f8a"
      },
      "execution_count": 24,
      "outputs": [
        {
          "output_type": "stream",
          "name": "stdout",
          "text": [
            "1\n",
            "2\n",
            "3\n",
            "4\n",
            "5\n",
            "6\n",
            "7\n",
            "8\n",
            "9\n",
            "10\n"
          ]
        }
      ]
    },
    {
      "cell_type": "code",
      "source": [
        "total = 0\n",
        "for num in range(2, 51, 2):  # start at 2, go up to 50, step by 2 (even numbers)\n",
        "    total += num\n",
        "\n",
        "print(\"Sum of even numbers between 1 and 50 is:\", total)\n"
      ],
      "metadata": {
        "id": "eWMC3GrjNCWZ",
        "colab": {
          "base_uri": "https://localhost:8080/"
        },
        "outputId": "ed95b572-ef06-4168-e357-7d7c4f288db5"
      },
      "execution_count": 27,
      "outputs": [
        {
          "output_type": "stream",
          "name": "stdout",
          "text": [
            "Sum of even numbers between 1 and 50 is: 650\n"
          ]
        }
      ]
    },
    {
      "cell_type": "code",
      "source": [
        "#  Write a program to reverse a string using a while loop.\n",
        "\n",
        "text = input(\"Enter a string: \")\n",
        "reversed_text = \"\"\n",
        "index = len(text) - 1\n",
        "\n",
        "while index >= 0:\n",
        "  reversed_text += text[index]\n",
        "  index -= 1\n",
        "\n",
        "print(\"Reversed string:\", reversed_text)"
      ],
      "metadata": {
        "id": "0NDZZw0eNCg8",
        "colab": {
          "base_uri": "https://localhost:8080/"
        },
        "outputId": "4891449e-0590-4094-dacd-7db596c416c0"
      },
      "execution_count": 28,
      "outputs": [
        {
          "output_type": "stream",
          "name": "stdout",
          "text": [
            "Enter a string: yu\n",
            "Reversed string: uy\n"
          ]
        }
      ]
    },
    {
      "cell_type": "code",
      "source": [
        "# Write a Python program to calculate the factorial of a number provided by the user using a while loop.\n",
        "\n",
        "num = int(input(\"Enter a non-negative integer: \"))\n",
        "\n",
        "if num < 0:\n",
        "    print(\"Factorial is not defined for negative numbers\")\n",
        "else:\n",
        "    factorial = 1\n",
        "    count = num\n",
        "    while count > 0:\n",
        "        factorial *= count\n",
        "        count -= 1\n",
        "    print(f\"The factorial of (num) is (factorial)\")"
      ],
      "metadata": {
        "id": "gtk56bmoNFsv",
        "colab": {
          "base_uri": "https://localhost:8080/"
        },
        "outputId": "64b382e7-ae8a-4c7b-cb99-53a9ac8603e5"
      },
      "execution_count": 30,
      "outputs": [
        {
          "output_type": "stream",
          "name": "stdout",
          "text": [
            "Enter a non-negative integer: 6\n",
            "The factorial of (num) is (factorial)\n"
          ]
        }
      ]
    }
  ]
}